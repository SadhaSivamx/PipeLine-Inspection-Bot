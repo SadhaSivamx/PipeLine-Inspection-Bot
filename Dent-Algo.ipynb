{
  "nbformat": 4,
  "nbformat_minor": 0,
  "metadata": {
    "colab": {
      "provenance": []
    },
    "kernelspec": {
      "name": "python3",
      "display_name": "Python 3"
    },
    "language_info": {
      "name": "python"
    }
  },
  "cells": [
    {
      "cell_type": "code",
      "source": [
        "import cv2 as cv\n",
        "import matplotlib.pyplot as plt\n",
        "import math\n",
        "import numpy as np\n",
        "\n",
        "# Function to load and threshold the image\n",
        "def load_and_threshold(image_path):\n",
        "    img = cv.imread(image_path, 0)  # Load image in grayscale\n",
        "    _, thresholded = cv.threshold(img, 127, 255, cv.THRESH_BINARY_INV)\n",
        "    return img, thresholded\n",
        "\n",
        "# Function to find and draw contours\n",
        "def find_and_draw_contours(image, thresholded_image):\n",
        "    contours, _ = cv.findContours(thresholded_image, cv.RETR_TREE, cv.CHAIN_APPROX_SIMPLE)\n",
        "    cv.drawContours(image, contours, -1, (0, 255, 0), 3)  # Draw contours in green\n",
        "    return contours\n",
        "\n",
        "# Function to calculate the angle between two points\n",
        "def calculate_angle(point1, point2):\n",
        "    x1, y1 = point1\n",
        "    x2, y2 = point2\n",
        "    delta_y = y2 - y1\n",
        "    delta_x = x2 - x1\n",
        "    angle_rad = math.atan2(delta_y, delta_x)\n",
        "    angle_deg = math.degrees(angle_rad)\n",
        "    return angle_deg\n",
        "\n",
        "# Function to count significant angle changes along a contour\n",
        "def angle_graph(contour, threshold=30):\n",
        "    prev_angle = 0\n",
        "    angle_changes = 0\n",
        "\n",
        "    for i in range(len(contour) - 1):\n",
        "        angle = calculate_angle(contour[i], contour[i + 1])\n",
        "        if abs(angle - prev_angle) > threshold:\n",
        "            angle_changes += 1\n",
        "        prev_angle = angle\n",
        "\n",
        "    return angle_changes\n",
        "\n",
        "# Function to find the contour with the maximum area\n",
        "def find_max_contour(contours, min_area=500):\n",
        "    max_area = 0\n",
        "    max_contour = None\n",
        "\n",
        "    for contour in contours:\n",
        "        area = cv.contourArea(contour)\n",
        "        if area > max_area and area > min_area:\n",
        "            max_area = area\n",
        "            max_contour = contour\n",
        "\n",
        "    return max_contour, max_area\n",
        "\n",
        "# Function to add text to the image\n",
        "def add_text_to_image(image, text, position=(20, 20), font=cv.FONT_HERSHEY_SIMPLEX,\n",
        "                      font_scale=0.4, color=(0, 255, 0), thickness=2, line_type=cv.LINE_AA):\n",
        "    cv.putText(image, text, position, font, font_scale, color, thickness, line_type)\n",
        "\n",
        "# Main function to process the images and contours\n",
        "def process_images(img1_path, img2_path):\n",
        "    # Load and threshold images\n",
        "    img1, thr1 = load_and_threshold(img1_path)\n",
        "    img2, thr2 = load_and_threshold(img2_path)\n",
        "\n",
        "    # Find and draw contours\n",
        "    contours1 = find_and_draw_contours(img1, thr1)\n",
        "    contours2 = find_and_draw_contours(img2, thr2)\n",
        "\n",
        "    # Find the max contour and calculate significant angle changes for img1\n",
        "    max_contour1, max_area1 = find_max_contour(contours1)\n",
        "    if max_contour1 is not None:\n",
        "        print(f\"Image 1 - Maximum Area: {max_area1}\")\n",
        "        angle_changes1 = angle_graph(max_contour1[:, 0][::2])  # Downsampling the contour points\n",
        "\n",
        "        # Add appropriate text to img1\n",
        "        if angle_changes1 <= 1:\n",
        "            add_text_to_image(img1, \"No Dent\")\n",
        "        else:\n",
        "            add_text_to_image(img1, \"Dent Found\")\n",
        "\n",
        "    # Find the max contour and calculate significant angle changes for img2\n",
        "    max_contour2, max_area2 = find_max_contour(contours2)\n",
        "    if max_contour2 is not None:\n",
        "        print(f\"Image 2 - Maximum Area: {max_area2}\")\n",
        "        angle_changes2 = angle_graph(max_contour2[:, 0][::2])  # Downsampling the contour points\n",
        "\n",
        "        # Add appropriate text to img2\n",
        "        if angle_changes2 <= 1:\n",
        "            add_text_to_image(img2, \"No Dent\")\n",
        "        else:\n",
        "            add_text_to_image(img2, \"Dent Found\")\n",
        "\n",
        "    # Show the processed images with contours and text\n",
        "    plt.subplot(1, 2, 1)  # Display both images side by side\n",
        "    plt.imshow(img1)\n",
        "    plt.title(\"Processed Image 1\")\n",
        "    plt.axis('off')\n",
        "\n",
        "    plt.subplot(1, 2, 2)\n",
        "    plt.imshow(img2)\n",
        "    plt.title(\"Processed Image 2\")\n",
        "    plt.axis('off')\n",
        "\n",
        "    plt.show()\n",
        "\n",
        "# Call the main function with paths to the images\n",
        "process_images(\"Q1.png\", \"Q2.png\")\n"
      ],
      "metadata": {
        "id": "3Kwc_GSI7qQk",
        "outputId": "864e09a6-0538-4402-b1ba-d8df6ece4ffb",
        "colab": {
          "base_uri": "https://localhost:8080/",
          "height": 323
        }
      },
      "execution_count": 48,
      "outputs": [
        {
          "output_type": "stream",
          "name": "stdout",
          "text": [
            "Image 1 - Maximum Area: 74693.0\n",
            "Image 2 - Maximum Area: 48006.0\n"
          ]
        },
        {
          "output_type": "display_data",
          "data": {
            "text/plain": [
              "<Figure size 640x480 with 2 Axes>"
            ],
            "image/png": "[encoded data removed]"
          },
          "metadata": {}
        }
      ]
    },
    {
      "cell_type": "code",
      "source": [],
      "metadata": {
        "id": "XqbeA4Nq7x5y"
      },
      "execution_count": null,
      "outputs": []
    }
  ]
}